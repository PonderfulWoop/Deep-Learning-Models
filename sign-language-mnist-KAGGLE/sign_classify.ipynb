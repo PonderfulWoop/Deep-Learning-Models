{
 "cells": [
  {
   "cell_type": "code",
   "execution_count": 2,
   "metadata": {},
   "outputs": [],
   "source": [
    "import pandas as pd\n",
    "import numpy as np\n",
    "import tensorflow as tf\n",
    "from tensorflow.keras.preprocessing.image import ImageDataGenerator"
   ]
  },
  {
   "cell_type": "code",
   "execution_count": 29,
   "metadata": {},
   "outputs": [],
   "source": [
    "def get_data(file_up):\n",
    "    df = pd.read_csv(file_up)\n",
    "    labels = df.iloc[:, 0]\n",
    "    data = df.iloc[:, 1:]\n",
    "    labels = labels.values\n",
    "    ret_data = np.zeros(shape = (len(data), 28,28))\n",
    "    for index, row in data.iterrows(): \n",
    "        temp = row.values\n",
    "        temp = np.array_split(temp, 28)\n",
    "        ret_data[index] = np.asarray(temp, dtype = 'float64')    \n",
    "    return ret_data, labels"
   ]
  },
  {
   "cell_type": "code",
   "execution_count": 34,
   "metadata": {},
   "outputs": [
    {
     "name": "stdout",
     "output_type": "stream",
     "text": [
      "(27455, 28, 28)\n",
      "(27455,)\n",
      "(7172, 28, 28)\n",
      "(7172,)\n",
      "<class 'numpy.float64'>\n"
     ]
    }
   ],
   "source": [
    "training_images, training_labels = get_data('sign_mnist_train.csv')\n",
    "testing_images, testing_labels = get_data('sign_mnist_test.csv')\n",
    "\n",
    "# Keep these\n",
    "print(training_images.shape)\n",
    "print(training_labels.shape)\n",
    "print(testing_images.shape)\n",
    "print(testing_labels.shape)\n",
    "print(type(testing_images[0][0][0]))"
   ]
  },
  {
   "cell_type": "code",
   "execution_count": 35,
   "metadata": {},
   "outputs": [
    {
     "name": "stdout",
     "output_type": "stream",
     "text": [
      "(27455, 28, 28, 1)\n",
      "(7172, 28, 28, 1)\n"
     ]
    }
   ],
   "source": [
    "training_images = np.expand_dims(training_images, axis = 3)\n",
    "print(training_images.shape)\n",
    "\n",
    "testing_images = np.expand_dims(testing_images, axis = 3)\n",
    "print(testing_images.shape)"
   ]
  },
  {
   "cell_type": "code",
   "execution_count": 36,
   "metadata": {},
   "outputs": [
    {
     "name": "stdout",
     "output_type": "stream",
     "text": [
      "(27455, 28, 28, 1)\n",
      "(7172, 28, 28, 1)\n"
     ]
    }
   ],
   "source": [
    "train_datagen = ImageDataGenerator(rescale = 1/255, \n",
    "                                  horizontal_flip = True,\n",
    "                                  fill_mode = 'nearest',\n",
    "                                  rotation_range = 90,\n",
    "                                  shear_range = 0.2,\n",
    "                                  zoom_range = 0.2,\n",
    "                                  width_shift_range = 0.2,\n",
    "                                  height_shift_range = 0.2)\n",
    "\n",
    "validation_datagen = ImageDataGenerator(rescale = 1/255)\n",
    "\n",
    "print(training_images.shape)\n",
    "print(testing_images.shape)"
   ]
  },
  {
   "cell_type": "code",
   "execution_count": 47,
   "metadata": {},
   "outputs": [
    {
     "name": "stdout",
     "output_type": "stream",
     "text": [
      "Epoch 1/20\n",
      "225/225 [==============================] - 2s 9ms/step - loss: 2.0747 - acc: 0.3098\n",
      "858/858 [==============================] - 30s 35ms/step - loss: 2.7735 - acc: 0.1516 - val_loss: 2.0747 - val_acc: 0.3098\n",
      "Epoch 2/20\n",
      "225/225 [==============================] - 2s 8ms/step - loss: 1.4224 - acc: 0.4980\n",
      "858/858 [==============================] - 30s 34ms/step - loss: 2.0280 - acc: 0.3507 - val_loss: 1.4224 - val_acc: 0.4980\n",
      "Epoch 3/20\n",
      "225/225 [==============================] - 2s 8ms/step - loss: 1.0429 - acc: 0.6442\n",
      "858/858 [==============================] - 31s 36ms/step - loss: 1.5451 - acc: 0.4951 - val_loss: 1.0429 - val_acc: 0.6442\n",
      "Epoch 4/20\n",
      "225/225 [==============================] - 2s 9ms/step - loss: 0.9304 - acc: 0.6937\n",
      "858/858 [==============================] - 32s 37ms/step - loss: 1.2673 - acc: 0.5805 - val_loss: 0.9304 - val_acc: 0.6937\n",
      "Epoch 5/20\n",
      "225/225 [==============================] - 2s 9ms/step - loss: 0.7856 - acc: 0.7368\n",
      "858/858 [==============================] - 33s 38ms/step - loss: 1.0919 - acc: 0.6339 - val_loss: 0.7856 - val_acc: 0.7368\n",
      "Epoch 6/20\n",
      "225/225 [==============================] - 2s 8ms/step - loss: 0.5820 - acc: 0.8056\n",
      "858/858 [==============================] - 29s 33ms/step - loss: 0.9728 - acc: 0.6762 - val_loss: 0.5820 - val_acc: 0.8056\n",
      "Epoch 7/20\n",
      "225/225 [==============================] - 2s 8ms/step - loss: 0.4875 - acc: 0.8173\n",
      "858/858 [==============================] - 31s 36ms/step - loss: 0.8622 - acc: 0.7141 - val_loss: 0.4875 - val_acc: 0.8173\n",
      "Epoch 8/20\n",
      "225/225 [==============================] - 2s 8ms/step - loss: 0.5841 - acc: 0.7890\n",
      "858/858 [==============================] - 29s 34ms/step - loss: 0.7977 - acc: 0.7345 - val_loss: 0.5841 - val_acc: 0.7890\n",
      "Epoch 9/20\n",
      "225/225 [==============================] - 2s 8ms/step - loss: 0.4400 - acc: 0.8331\n",
      "858/858 [==============================] - 30s 35ms/step - loss: 0.7337 - acc: 0.7539 - val_loss: 0.4400 - val_acc: 0.8331\n",
      "Epoch 10/20\n",
      "225/225 [==============================] - 2s 8ms/step - loss: 0.4178 - acc: 0.8469\n",
      "858/858 [==============================] - 30s 35ms/step - loss: 0.6836 - acc: 0.7665 - val_loss: 0.4178 - val_acc: 0.8469\n",
      "Epoch 11/20\n",
      "225/225 [==============================] - 2s 8ms/step - loss: 0.4253 - acc: 0.8512\n",
      "858/858 [==============================] - 30s 35ms/step - loss: 0.6518 - acc: 0.7825 - val_loss: 0.4253 - val_acc: 0.8512\n",
      "Epoch 12/20\n",
      "225/225 [==============================] - 2s 9ms/step - loss: 0.4251 - acc: 0.8562\n",
      "858/858 [==============================] - 30s 35ms/step - loss: 0.5996 - acc: 0.7994 - val_loss: 0.4251 - val_acc: 0.8562\n",
      "Epoch 13/20\n",
      "225/225 [==============================] - 2s 8ms/step - loss: 0.3983 - acc: 0.8624\n",
      "858/858 [==============================] - 30s 35ms/step - loss: 0.5861 - acc: 0.8049 - val_loss: 0.3983 - val_acc: 0.8624\n",
      "Epoch 14/20\n",
      "225/225 [==============================] - 2s 8ms/step - loss: 0.3133 - acc: 0.8926\n",
      "858/858 [==============================] - 30s 35ms/step - loss: 0.5530 - acc: 0.8147 - val_loss: 0.3133 - val_acc: 0.8926\n",
      "Epoch 15/20\n",
      "225/225 [==============================] - 2s 8ms/step - loss: 0.3072 - acc: 0.8949\n",
      "858/858 [==============================] - 30s 35ms/step - loss: 0.5352 - acc: 0.8221 - val_loss: 0.3072 - val_acc: 0.8949\n",
      "Epoch 16/20\n",
      "225/225 [==============================] - 2s 8ms/step - loss: 0.2203 - acc: 0.9294\n",
      "858/858 [==============================] - 30s 35ms/step - loss: 0.4967 - acc: 0.8319 - val_loss: 0.2203 - val_acc: 0.9294\n",
      "Epoch 17/20\n",
      "225/225 [==============================] - 2s 8ms/step - loss: 0.2996 - acc: 0.9023\n",
      "858/858 [==============================] - 30s 35ms/step - loss: 0.5002 - acc: 0.8313 - val_loss: 0.2996 - val_acc: 0.9023\n",
      "Epoch 18/20\n",
      "225/225 [==============================] - 2s 8ms/step - loss: 0.1941 - acc: 0.9343\n",
      "858/858 [==============================] - 30s 35ms/step - loss: 0.4829 - acc: 0.8380 - val_loss: 0.1941 - val_acc: 0.9343\n",
      "Epoch 19/20\n",
      "225/225 [==============================] - 2s 8ms/step - loss: 0.2200 - acc: 0.9267\n",
      "858/858 [==============================] - 31s 36ms/step - loss: 0.4629 - acc: 0.8424 - val_loss: 0.2200 - val_acc: 0.9267\n",
      "Epoch 20/20\n",
      "225/225 [==============================] - 2s 8ms/step - loss: 0.2272 - acc: 0.9149\n",
      "858/858 [==============================] - 31s 36ms/step - loss: 0.4478 - acc: 0.8470 - val_loss: 0.2272 - val_acc: 0.9149\n",
      "7172/7172 [==============================] - 2s 263us/sample - loss: 4.7192 - acc: 0.7043\n"
     ]
    },
    {
     "data": {
      "text/plain": [
       "[4.719234323209049, 0.7042666]"
      ]
     },
     "execution_count": 47,
     "metadata": {},
     "output_type": "execute_result"
    }
   ],
   "source": [
    "train_generator = train_datagen.flow(training_images, training_labels, batch_size = 32)\n",
    "validation_generator = validation_datagen.flow(testing_images, testing_labels, batch_size = 32)\n",
    "\n",
    "model = tf.keras.models.Sequential([\n",
    "    tf.keras.layers.Conv2D(64, (3,3), activation = 'relu', input_shape = (28, 28, 1)),\n",
    "    tf.keras.layers.MaxPooling2D(2,2),\n",
    "    \n",
    "    tf.keras.layers.Conv2D(64, (3,3), activation = 'relu'),\n",
    "    tf.keras.layers.MaxPooling2D(2,2),\n",
    "    \n",
    "    tf.keras.layers.Flatten(),\n",
    "    tf.keras.layers.Dense(1024, activation = 'relu'),\n",
    "    tf.keras.layers.Dense(26, activation = 'softmax')\n",
    "])\n",
    "\n",
    "model.compile(loss = 'sparse_categorical_crossentropy', optimizer = 'adam', metrics = ['acc'])\n",
    "\n",
    "history = model.fit_generator(train_generator,\n",
    "                              steps_per_epoch=len(training_images) / 32,\n",
    "                              epochs=20,\n",
    "                              validation_data=validation_generator,\n",
    "                              validation_steps=len(testing_images) / 32)\n",
    "\n",
    "model.evaluate(testing_images, testing_labels)"
   ]
  },
  {
   "cell_type": "code",
   "execution_count": 49,
   "metadata": {},
   "outputs": [
    {
     "name": "stdout",
     "output_type": "stream",
     "text": [
      "Populating the interactive namespace from numpy and matplotlib\n"
     ]
    },
    {
     "data": {
      "image/png": "[encoded data removed]",
      "text/plain": [
       "<Figure size 432x288 with 1 Axes>"
      ]
     },
     "metadata": {
      "needs_background": "light"
     },
     "output_type": "display_data"
    },
    {
     "data": {
      "image/png": "[encoded data removed]",
      "text/plain": [
       "<Figure size 432x288 with 1 Axes>"
      ]
     },
     "metadata": {
      "needs_background": "light"
     },
     "output_type": "display_data"
    }
   ],
   "source": [
    "%pylab inline\n",
    "import matplotlib.pyplot as plt\n",
    "acc = history.history['acc']\n",
    "val_acc = history.history['val_acc']\n",
    "loss = history.history['loss']\n",
    "val_loss = history.history['val_loss']\n",
    "\n",
    "epochs = range(len(acc))\n",
    "\n",
    "plt.plot(epochs, acc, 'r', label='Training accuracy')\n",
    "plt.plot(epochs, val_acc, 'b', label='Validation accuracy')\n",
    "plt.title('Training and validation accuracy')\n",
    "plt.legend()\n",
    "plt.figure()\n",
    "\n",
    "plt.plot(epochs, loss, 'r', label='Training Loss')\n",
    "plt.plot(epochs, val_loss, 'b', label='Validation Loss')\n",
    "plt.title('Training and validation loss')\n",
    "plt.legend()\n",
    "\n",
    "plt.show()"
   ]
  },
  {
   "cell_type": "code",
   "execution_count": 50,
   "metadata": {},
   "outputs": [],
   "source": [
    "model.save('sign_language_classify.h5')"
   ]
  },
  {
   "cell_type": "code",
   "execution_count": null,
   "metadata": {},
   "outputs": [],
   "source": []
  }
 ],
 "metadata": {
  "kernelspec": {
   "display_name": "Python 3",
   "language": "python",
   "name": "python3"
  },
  "language_info": {
   "codemirror_mode": {
    "name": "ipython",
    "version": 3
   },
   "file_extension": ".py",
   "mimetype": "text/x-python",
   "name": "python",
   "nbconvert_exporter": "python",
   "pygments_lexer": "ipython3",
   "version": "3.7.3"
  }
 },
 "nbformat": 4,
 "nbformat_minor": 2
}
